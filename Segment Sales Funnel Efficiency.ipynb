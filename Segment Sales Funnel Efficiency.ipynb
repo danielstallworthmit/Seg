{
 "cells": [
  {
   "cell_type": "markdown",
   "metadata": {},
   "source": [
    "# Sales Funnel Efficiency"
   ]
  },
  {
   "cell_type": "markdown",
   "metadata": {},
   "source": [
    "### Imports"
   ]
  },
  {
   "cell_type": "code",
   "execution_count": 1,
   "metadata": {
    "collapsed": true
   },
   "outputs": [],
   "source": [
    "import pandas as pd\n",
    "import datetime as dt\n",
    "import matplotlib.pyplot as plt\n",
    "import seaborn as sns\n",
    "import numpy as np"
   ]
  },
  {
   "cell_type": "code",
   "execution_count": 2,
   "metadata": {
    "collapsed": true
   },
   "outputs": [],
   "source": [
    "%matplotlib inline\n",
    "import warnings\n",
    "warnings.filterwarnings('ignore')"
   ]
  },
  {
   "cell_type": "markdown",
   "metadata": {},
   "source": [
    "### EDA"
   ]
  },
  {
   "cell_type": "code",
   "execution_count": 3,
   "metadata": {
    "collapsed": false
   },
   "outputs": [],
   "source": [
    "# Import data\n",
    "segmentData = pd.read_excel('2017 08 take home data.xlsx')"
   ]
  },
  {
   "cell_type": "code",
   "execution_count": 4,
   "metadata": {
    "collapsed": true
   },
   "outputs": [],
   "source": [
    "segmentData = segmentData[segmentData.opportunity_stage != 'Closed - Duplicate Record']"
   ]
  },
  {
   "cell_type": "code",
   "execution_count": 5,
   "metadata": {
    "collapsed": false
   },
   "outputs": [],
   "source": [
    "segmentData['opportunity_month_year'] = segmentData.lead_converted_date.dt.to_period('M')\n",
    "segmentData['discovery_month_year'] = segmentData.opportunity_qualified_date.dt.to_period('M')\n",
    "segmentData['lead_month_year'] = segmentData.lead_created_date.dt.to_period('M')"
   ]
  },
  {
   "cell_type": "code",
   "execution_count": 6,
   "metadata": {
    "collapsed": false
   },
   "outputs": [
    {
     "data": {
      "text/html": [
       "<div>\n",
       "<table border=\"1\" class=\"dataframe\">\n",
       "  <thead>\n",
       "    <tr style=\"text-align: right;\">\n",
       "      <th></th>\n",
       "      <th>lead_id</th>\n",
       "      <th>lead_owner_id</th>\n",
       "      <th>lead_created_date</th>\n",
       "      <th>lead_converted_date</th>\n",
       "      <th>lead_fit_score</th>\n",
       "      <th>lead_mql_status</th>\n",
       "      <th>lead_source</th>\n",
       "      <th>lead_industry</th>\n",
       "      <th>lead_capital_raised_amount</th>\n",
       "      <th>lead_location_state</th>\n",
       "      <th>...</th>\n",
       "      <th>opportunity_amount</th>\n",
       "      <th>opportunity_qualified_date</th>\n",
       "      <th>opportunity_owner_id</th>\n",
       "      <th>opportunity_age</th>\n",
       "      <th>opportunity_source</th>\n",
       "      <th>opportunity_created_date</th>\n",
       "      <th>opportunity_close_date</th>\n",
       "      <th>opportunity_month_year</th>\n",
       "      <th>discovery_month_year</th>\n",
       "      <th>lead_month_year</th>\n",
       "    </tr>\n",
       "  </thead>\n",
       "  <tbody>\n",
       "    <tr>\n",
       "      <th>0</th>\n",
       "      <td>00Q31000015bfgnEAA</td>\n",
       "      <td>005i0000004OgYcAAK</td>\n",
       "      <td>2015-09-29</td>\n",
       "      <td>2015-10-01</td>\n",
       "      <td>NaN</td>\n",
       "      <td>1.0</td>\n",
       "      <td>Web</td>\n",
       "      <td>NaN</td>\n",
       "      <td>0.0</td>\n",
       "      <td>New York</td>\n",
       "      <td>...</td>\n",
       "      <td>0.0</td>\n",
       "      <td>NaN</td>\n",
       "      <td>005i0000005r84mAAA</td>\n",
       "      <td>560.0</td>\n",
       "      <td>Inbound</td>\n",
       "      <td>2015-10-01</td>\n",
       "      <td>2016-12-31</td>\n",
       "      <td>2015-10</td>\n",
       "      <td>NaT</td>\n",
       "      <td>2015-09</td>\n",
       "    </tr>\n",
       "    <tr>\n",
       "      <th>1</th>\n",
       "      <td>00Qi0000012aRscEAE</td>\n",
       "      <td>005i0000001G13xAAC</td>\n",
       "      <td>2015-07-14</td>\n",
       "      <td>2015-07-14</td>\n",
       "      <td>NaN</td>\n",
       "      <td>1.0</td>\n",
       "      <td>Web</td>\n",
       "      <td>NaN</td>\n",
       "      <td>0.0</td>\n",
       "      <td>Pennsylvania</td>\n",
       "      <td>...</td>\n",
       "      <td>0.0</td>\n",
       "      <td>NaN</td>\n",
       "      <td>00531000006licXAAQ</td>\n",
       "      <td>638.0</td>\n",
       "      <td>(none)</td>\n",
       "      <td>2015-07-14</td>\n",
       "      <td>2016-11-16</td>\n",
       "      <td>2015-07</td>\n",
       "      <td>NaT</td>\n",
       "      <td>2015-07</td>\n",
       "    </tr>\n",
       "    <tr>\n",
       "      <th>2</th>\n",
       "      <td>00Qi000000GTI5LEAX</td>\n",
       "      <td>005i0000001FgRuAAK</td>\n",
       "      <td>2014-03-19</td>\n",
       "      <td>2014-03-21</td>\n",
       "      <td>NaN</td>\n",
       "      <td>1.0</td>\n",
       "      <td>Web</td>\n",
       "      <td>NaN</td>\n",
       "      <td>0.0</td>\n",
       "      <td>NaN</td>\n",
       "      <td>...</td>\n",
       "      <td>0.0</td>\n",
       "      <td>NaN</td>\n",
       "      <td>005i0000004zDbeAAE</td>\n",
       "      <td>1118.0</td>\n",
       "      <td>Email to Signup</td>\n",
       "      <td>2014-03-22</td>\n",
       "      <td>2016-11-30</td>\n",
       "      <td>2014-03</td>\n",
       "      <td>NaT</td>\n",
       "      <td>2014-03</td>\n",
       "    </tr>\n",
       "    <tr>\n",
       "      <th>3</th>\n",
       "      <td>00Qi000000RzhgtEAB</td>\n",
       "      <td>005i0000003LoikAAC</td>\n",
       "      <td>2014-07-14</td>\n",
       "      <td>2014-07-14</td>\n",
       "      <td>NaN</td>\n",
       "      <td>1.0</td>\n",
       "      <td>Web</td>\n",
       "      <td>NaN</td>\n",
       "      <td>0.0</td>\n",
       "      <td>NaN</td>\n",
       "      <td>...</td>\n",
       "      <td>0.0</td>\n",
       "      <td>NaN</td>\n",
       "      <td>005i00000066UwCAAU</td>\n",
       "      <td>1004.0</td>\n",
       "      <td>Inbound</td>\n",
       "      <td>2014-07-14</td>\n",
       "      <td>2016-12-12</td>\n",
       "      <td>2014-07</td>\n",
       "      <td>NaT</td>\n",
       "      <td>2014-07</td>\n",
       "    </tr>\n",
       "    <tr>\n",
       "      <th>4</th>\n",
       "      <td>00Qi000000ab30YEAQ</td>\n",
       "      <td>005i0000003LoikAAC</td>\n",
       "      <td>2014-10-07</td>\n",
       "      <td>2014-10-07</td>\n",
       "      <td>NaN</td>\n",
       "      <td>1.0</td>\n",
       "      <td>Web</td>\n",
       "      <td>NaN</td>\n",
       "      <td>0.0</td>\n",
       "      <td>NaN</td>\n",
       "      <td>...</td>\n",
       "      <td>0.0</td>\n",
       "      <td>NaN</td>\n",
       "      <td>005i0000005r84mAAA</td>\n",
       "      <td>918.0</td>\n",
       "      <td>(none)</td>\n",
       "      <td>2014-10-07</td>\n",
       "      <td>2016-08-22</td>\n",
       "      <td>2014-10</td>\n",
       "      <td>NaT</td>\n",
       "      <td>2014-10</td>\n",
       "    </tr>\n",
       "  </tbody>\n",
       "</table>\n",
       "<p>5 rows × 26 columns</p>\n",
       "</div>"
      ],
      "text/plain": [
       "              lead_id       lead_owner_id lead_created_date  \\\n",
       "0  00Q31000015bfgnEAA  005i0000004OgYcAAK        2015-09-29   \n",
       "1  00Qi0000012aRscEAE  005i0000001G13xAAC        2015-07-14   \n",
       "2  00Qi000000GTI5LEAX  005i0000001FgRuAAK        2014-03-19   \n",
       "3  00Qi000000RzhgtEAB  005i0000003LoikAAC        2014-07-14   \n",
       "4  00Qi000000ab30YEAQ  005i0000003LoikAAC        2014-10-07   \n",
       "\n",
       "  lead_converted_date lead_fit_score  lead_mql_status lead_source  \\\n",
       "0          2015-10-01            NaN              1.0         Web   \n",
       "1          2015-07-14            NaN              1.0         Web   \n",
       "2          2014-03-21            NaN              1.0         Web   \n",
       "3          2014-07-14            NaN              1.0         Web   \n",
       "4          2014-10-07            NaN              1.0         Web   \n",
       "\n",
       "  lead_industry  lead_capital_raised_amount lead_location_state  \\\n",
       "0           NaN                         0.0            New York   \n",
       "1           NaN                         0.0        Pennsylvania   \n",
       "2           NaN                         0.0                 NaN   \n",
       "3           NaN                         0.0                 NaN   \n",
       "4           NaN                         0.0                 NaN   \n",
       "\n",
       "        ...        opportunity_amount opportunity_qualified_date  \\\n",
       "0       ...                       0.0                        NaN   \n",
       "1       ...                       0.0                        NaN   \n",
       "2       ...                       0.0                        NaN   \n",
       "3       ...                       0.0                        NaN   \n",
       "4       ...                       0.0                        NaN   \n",
       "\n",
       "   opportunity_owner_id opportunity_age opportunity_source  \\\n",
       "0    005i0000005r84mAAA           560.0            Inbound   \n",
       "1    00531000006licXAAQ           638.0             (none)   \n",
       "2    005i0000004zDbeAAE          1118.0    Email to Signup   \n",
       "3    005i00000066UwCAAU          1004.0            Inbound   \n",
       "4    005i0000005r84mAAA           918.0             (none)   \n",
       "\n",
       "  opportunity_created_date  opportunity_close_date opportunity_month_year  \\\n",
       "0               2015-10-01              2016-12-31                2015-10   \n",
       "1               2015-07-14              2016-11-16                2015-07   \n",
       "2               2014-03-22              2016-11-30                2014-03   \n",
       "3               2014-07-14              2016-12-12                2014-07   \n",
       "4               2014-10-07              2016-08-22                2014-10   \n",
       "\n",
       "  discovery_month_year  lead_month_year  \n",
       "0                  NaT          2015-09  \n",
       "1                  NaT          2015-07  \n",
       "2                  NaT          2014-03  \n",
       "3                  NaT          2014-07  \n",
       "4                  NaT          2014-10  \n",
       "\n",
       "[5 rows x 26 columns]"
      ]
     },
     "execution_count": 6,
     "metadata": {},
     "output_type": "execute_result"
    }
   ],
   "source": [
    "segmentData.head()"
   ]
  },
  {
   "cell_type": "code",
   "execution_count": 7,
   "metadata": {
    "collapsed": false
   },
   "outputs": [
    {
     "data": {
      "text/plain": [
       "lead_id                          7989\n",
       "lead_owner_id                    7989\n",
       "lead_created_date                7989\n",
       "lead_converted_date               870\n",
       "lead_fit_score                   7631\n",
       "lead_mql_status                  7565\n",
       "lead_source                      7949\n",
       "lead_industry                    5336\n",
       "lead_capital_raised_amount       7989\n",
       "lead_location_state              3729\n",
       "lead_location_country            5032\n",
       "lead_title                       4539\n",
       "lead_number_of_employees         7565\n",
       "opportunity_sales_engineer_id     325\n",
       "opportunity_use_case               71\n",
       "opportunity_stage                 693\n",
       "opportunity_amount                693\n",
       "opportunity_qualified_date        251\n",
       "opportunity_owner_id              693\n",
       "opportunity_age                   693\n",
       "opportunity_source                693\n",
       "opportunity_created_date          693\n",
       "opportunity_close_date            693\n",
       "opportunity_month_year            870\n",
       "discovery_month_year              251\n",
       "lead_month_year                  7989\n",
       "dtype: int64"
      ]
     },
     "execution_count": 7,
     "metadata": {},
     "output_type": "execute_result"
    }
   ],
   "source": [
    "segmentData.count()"
   ]
  },
  {
   "cell_type": "code",
   "execution_count": 8,
   "metadata": {
    "collapsed": false
   },
   "outputs": [
    {
     "data": {
      "text/plain": [
       "19"
      ]
     },
     "execution_count": 8,
     "metadata": {},
     "output_type": "execute_result"
    }
   ],
   "source": [
    "len(segmentData.opportunity_owner_id.unique())"
   ]
  },
  {
   "cell_type": "code",
   "execution_count": 9,
   "metadata": {
    "collapsed": false
   },
   "outputs": [
    {
     "data": {
      "text/plain": [
       "Web                      4034\n",
       "Clearbit                 3477\n",
       "Outbound                  173\n",
       "Marketing Event           140\n",
       "Content Marketing          61\n",
       "ZenProspect                26\n",
       "Trade Show                 14\n",
       "Datanyze                    6\n",
       "Other                       5\n",
       "Personal Referral           3\n",
       "Prospecting                 3\n",
       "Conference                  2\n",
       "Purchased List Upload       1\n",
       "★★★★★                       1\n",
       "Zapier Zendesk Lead         1\n",
       "Social Selling              1\n",
       "Sendbloom                   1\n",
       "Name: lead_source, dtype: int64"
      ]
     },
     "execution_count": 9,
     "metadata": {},
     "output_type": "execute_result"
    }
   ],
   "source": [
    "segmentData.lead_source.value_counts()"
   ]
  },
  {
   "cell_type": "code",
   "execution_count": 10,
   "metadata": {
    "collapsed": false
   },
   "outputs": [
    {
     "data": {
      "text/plain": [
       "Inbound                         357\n",
       "Outbound - Mass Market          167\n",
       "Email to Signup                  82\n",
       "(none)                           27\n",
       "Live Event/Trade Show            22\n",
       "Outbound - Targeted              19\n",
       "Cold Lead or Prior Lost Deal     10\n",
       "Upgrade from Self-Service         5\n",
       "Growth - Outbound                 2\n",
       "Personal Referral                 1\n",
       "Growth - Existing Customer        1\n",
       "Name: opportunity_source, dtype: int64"
      ]
     },
     "execution_count": 10,
     "metadata": {},
     "output_type": "execute_result"
    }
   ],
   "source": [
    "segmentData.opportunity_source.value_counts()"
   ]
  },
  {
   "cell_type": "code",
   "execution_count": 11,
   "metadata": {
    "collapsed": false
   },
   "outputs": [
    {
     "data": {
      "text/plain": [
       "count       693.00000\n",
       "mean      15922.81443\n",
       "std       10154.30856\n",
       "min           0.00000\n",
       "25%       14000.00000\n",
       "50%       14000.00000\n",
       "75%       14000.00000\n",
       "max      100000.00000\n",
       "Name: opportunity_amount, dtype: float64"
      ]
     },
     "execution_count": 11,
     "metadata": {},
     "output_type": "execute_result"
    }
   ],
   "source": [
    "segmentData.opportunity_amount.describe()"
   ]
  },
  {
   "cell_type": "code",
   "execution_count": 12,
   "metadata": {
    "collapsed": false
   },
   "outputs": [
    {
     "data": {
      "image/png": "[encoded data removed]",
      "text/plain": [
       "<matplotlib.figure.Figure at 0xbebac88>"
      ]
     },
     "metadata": {},
     "output_type": "display_data"
    }
   ],
   "source": [
    "segmentData.opportunity_amount.hist(bins=30, figsize=(12,7));"
   ]
  },
  {
   "cell_type": "code",
   "execution_count": 13,
   "metadata": {
    "collapsed": true
   },
   "outputs": [],
   "source": [
    "def oppAmount(x):\n",
    "    p = ''\n",
    "    if x.opportunity_amount >= 20000: p='Large'\n",
    "    elif x.opportunity_amount <= 10000: p='Small'\n",
    "    else: p = 'Medium'\n",
    "    return p"
   ]
  },
  {
   "cell_type": "code",
   "execution_count": 14,
   "metadata": {
    "collapsed": true
   },
   "outputs": [],
   "source": [
    "segmentData['opportunity_size'] = segmentData.apply(oppAmount, axis=1)"
   ]
  },
  {
   "cell_type": "code",
   "execution_count": 15,
   "metadata": {
    "collapsed": false
   },
   "outputs": [
    {
     "data": {
      "text/plain": [
       "Medium    7822\n",
       "Large       85\n",
       "Small       82\n",
       "Name: opportunity_size, dtype: int64"
      ]
     },
     "execution_count": 15,
     "metadata": {},
     "output_type": "execute_result"
    }
   ],
   "source": [
    "segmentData.opportunity_size.value_counts()"
   ]
  },
  {
   "cell_type": "code",
   "execution_count": 16,
   "metadata": {
    "collapsed": false
   },
   "outputs": [
    {
     "data": {
      "image/png": "[encoded data removed]",
      "text/plain": [
       "<matplotlib.figure.Figure at 0xbebaf28>"
      ]
     },
     "metadata": {},
     "output_type": "display_data"
    }
   ],
   "source": [
    "sns.pairplot(segmentData, diag_kind=\"kde\", hue=\"opportunity_stage\");"
   ]
  },
  {
   "cell_type": "markdown",
   "metadata": {},
   "source": [
    "# Lead Source"
   ]
  },
  {
   "cell_type": "markdown",
   "metadata": {},
   "source": [
    "## $ Closed Per Month by Lead Source"
   ]
  },
  {
   "cell_type": "code",
   "execution_count": 17,
   "metadata": {
    "collapsed": true
   },
   "outputs": [],
   "source": [
    "def stageWonMap(x):\n",
    "    p = 0\n",
    "    if x.opportunity_stage == 'Closed Won': p = x.opportunity_amount\n",
    "    return p"
   ]
  },
  {
   "cell_type": "code",
   "execution_count": 18,
   "metadata": {
    "collapsed": false
   },
   "outputs": [],
   "source": [
    "segmentData['opportunity_won_amount'] = segmentData.apply(stageWonMap, axis=1)"
   ]
  },
  {
   "cell_type": "code",
   "execution_count": 19,
   "metadata": {
    "collapsed": true
   },
   "outputs": [],
   "source": [
    "leadDollarsClosedPerMonth = segmentData[['opportunity_won_amount', 'opportunity_month_year', 'lead_source']].pivot_table(\n",
    "                                values='opportunity_won_amount',\n",
    "                                index='opportunity_month_year',\n",
    "                                columns='lead_source', aggfunc='sum')"
   ]
  },
  {
   "cell_type": "code",
   "execution_count": 20,
   "metadata": {
    "collapsed": false
   },
   "outputs": [
    {
     "data": {
      "text/html": [
       "<div>\n",
       "<table border=\"1\" class=\"dataframe\">\n",
       "  <thead>\n",
       "    <tr style=\"text-align: right;\">\n",
       "      <th>lead_source</th>\n",
       "      <th>Clearbit</th>\n",
       "      <th>Conference</th>\n",
       "      <th>Content Marketing</th>\n",
       "      <th>Datanyze</th>\n",
       "      <th>Marketing Event</th>\n",
       "      <th>Other</th>\n",
       "      <th>Outbound</th>\n",
       "      <th>Personal Referral</th>\n",
       "      <th>Prospecting</th>\n",
       "      <th>Purchased List Upload</th>\n",
       "      <th>Sendbloom</th>\n",
       "      <th>Trade Show</th>\n",
       "      <th>Web</th>\n",
       "      <th>Zapier Zendesk Lead</th>\n",
       "      <th>ZenProspect</th>\n",
       "    </tr>\n",
       "    <tr>\n",
       "      <th>opportunity_month_year</th>\n",
       "      <th></th>\n",
       "      <th></th>\n",
       "      <th></th>\n",
       "      <th></th>\n",
       "      <th></th>\n",
       "      <th></th>\n",
       "      <th></th>\n",
       "      <th></th>\n",
       "      <th></th>\n",
       "      <th></th>\n",
       "      <th></th>\n",
       "      <th></th>\n",
       "      <th></th>\n",
       "      <th></th>\n",
       "      <th></th>\n",
       "    </tr>\n",
       "  </thead>\n",
       "  <tbody>\n",
       "    <tr>\n",
       "      <th>2016-09</th>\n",
       "      <td>0.0</td>\n",
       "      <td>NaN</td>\n",
       "      <td>0.0</td>\n",
       "      <td>NaN</td>\n",
       "      <td>16800.0</td>\n",
       "      <td>NaN</td>\n",
       "      <td>0.0</td>\n",
       "      <td>0.0</td>\n",
       "      <td>NaN</td>\n",
       "      <td>NaN</td>\n",
       "      <td>NaN</td>\n",
       "      <td>0.0</td>\n",
       "      <td>76800.0</td>\n",
       "      <td>NaN</td>\n",
       "      <td>0.0</td>\n",
       "    </tr>\n",
       "    <tr>\n",
       "      <th>2016-10</th>\n",
       "      <td>0.0</td>\n",
       "      <td>0.0</td>\n",
       "      <td>NaN</td>\n",
       "      <td>NaN</td>\n",
       "      <td>31200.0</td>\n",
       "      <td>NaN</td>\n",
       "      <td>0.0</td>\n",
       "      <td>NaN</td>\n",
       "      <td>NaN</td>\n",
       "      <td>NaN</td>\n",
       "      <td>NaN</td>\n",
       "      <td>NaN</td>\n",
       "      <td>95600.0</td>\n",
       "      <td>NaN</td>\n",
       "      <td>9600.0</td>\n",
       "    </tr>\n",
       "    <tr>\n",
       "      <th>2016-11</th>\n",
       "      <td>0.0</td>\n",
       "      <td>NaN</td>\n",
       "      <td>NaN</td>\n",
       "      <td>NaN</td>\n",
       "      <td>NaN</td>\n",
       "      <td>NaN</td>\n",
       "      <td>0.0</td>\n",
       "      <td>NaN</td>\n",
       "      <td>NaN</td>\n",
       "      <td>0.0</td>\n",
       "      <td>NaN</td>\n",
       "      <td>NaN</td>\n",
       "      <td>40512.0</td>\n",
       "      <td>NaN</td>\n",
       "      <td>0.0</td>\n",
       "    </tr>\n",
       "    <tr>\n",
       "      <th>2016-12</th>\n",
       "      <td>0.0</td>\n",
       "      <td>NaN</td>\n",
       "      <td>0.0</td>\n",
       "      <td>NaN</td>\n",
       "      <td>0.0</td>\n",
       "      <td>0.0</td>\n",
       "      <td>NaN</td>\n",
       "      <td>NaN</td>\n",
       "      <td>NaN</td>\n",
       "      <td>NaN</td>\n",
       "      <td>NaN</td>\n",
       "      <td>NaN</td>\n",
       "      <td>28320.0</td>\n",
       "      <td>NaN</td>\n",
       "      <td>0.0</td>\n",
       "    </tr>\n",
       "    <tr>\n",
       "      <th>2017-04</th>\n",
       "      <td>NaN</td>\n",
       "      <td>NaN</td>\n",
       "      <td>NaN</td>\n",
       "      <td>NaN</td>\n",
       "      <td>NaN</td>\n",
       "      <td>NaN</td>\n",
       "      <td>NaN</td>\n",
       "      <td>NaN</td>\n",
       "      <td>NaN</td>\n",
       "      <td>NaN</td>\n",
       "      <td>NaN</td>\n",
       "      <td>NaN</td>\n",
       "      <td>0.0</td>\n",
       "      <td>NaN</td>\n",
       "      <td>NaN</td>\n",
       "    </tr>\n",
       "  </tbody>\n",
       "</table>\n",
       "</div>"
      ],
      "text/plain": [
       "lead_source             Clearbit  Conference  Content Marketing  Datanyze  \\\n",
       "opportunity_month_year                                                      \n",
       "2016-09                      0.0         NaN                0.0       NaN   \n",
       "2016-10                      0.0         0.0                NaN       NaN   \n",
       "2016-11                      0.0         NaN                NaN       NaN   \n",
       "2016-12                      0.0         NaN                0.0       NaN   \n",
       "2017-04                      NaN         NaN                NaN       NaN   \n",
       "\n",
       "lead_source             Marketing Event  Other  Outbound  Personal Referral  \\\n",
       "opportunity_month_year                                                        \n",
       "2016-09                         16800.0    NaN       0.0                0.0   \n",
       "2016-10                         31200.0    NaN       0.0                NaN   \n",
       "2016-11                             NaN    NaN       0.0                NaN   \n",
       "2016-12                             0.0    0.0       NaN                NaN   \n",
       "2017-04                             NaN    NaN       NaN                NaN   \n",
       "\n",
       "lead_source             Prospecting  Purchased List Upload  Sendbloom  \\\n",
       "opportunity_month_year                                                  \n",
       "2016-09                         NaN                    NaN        NaN   \n",
       "2016-10                         NaN                    NaN        NaN   \n",
       "2016-11                         NaN                    0.0        NaN   \n",
       "2016-12                         NaN                    NaN        NaN   \n",
       "2017-04                         NaN                    NaN        NaN   \n",
       "\n",
       "lead_source             Trade Show      Web  Zapier Zendesk Lead  ZenProspect  \n",
       "opportunity_month_year                                                         \n",
       "2016-09                        0.0  76800.0                  NaN          0.0  \n",
       "2016-10                        NaN  95600.0                  NaN       9600.0  \n",
       "2016-11                        NaN  40512.0                  NaN          0.0  \n",
       "2016-12                        NaN  28320.0                  NaN          0.0  \n",
       "2017-04                        NaN      0.0                  NaN          NaN  "
      ]
     },
     "execution_count": 20,
     "metadata": {},
     "output_type": "execute_result"
    }
   ],
   "source": [
    "leadDollarsClosedPerMonth.tail()"
   ]
  },
  {
   "cell_type": "code",
   "execution_count": 21,
   "metadata": {
    "collapsed": false
   },
   "outputs": [
    {
     "data": {
      "image/png": "[encoded data removed]",
      "text/plain": [
       "<matplotlib.figure.Figure at 0x1098d8d0>"
      ]
     },
     "metadata": {},
     "output_type": "display_data"
    }
   ],
   "source": [
    "leadDollarsClosedPerMonth.mean().plot.bar(figsize={12,6})\n",
    "plt.title('Average Opportunity Revenue per Month');"
   ]
  },
  {
   "cell_type": "code",
   "execution_count": 22,
   "metadata": {
    "collapsed": true
   },
   "outputs": [],
   "source": [
    "# Number of leads per month per source\n",
    "leadPerMonth = segmentData[['opportunity_month_year', 'lead_source']].pivot_table(\n",
    "                                index='opportunity_month_year',\n",
    "                                columns='lead_source', aggfunc=len)"
   ]
  },
  {
   "cell_type": "code",
   "execution_count": 23,
   "metadata": {
    "collapsed": false
   },
   "outputs": [
    {
     "data": {
      "text/html": [
       "<div>\n",
       "<table border=\"1\" class=\"dataframe\">\n",
       "  <thead>\n",
       "    <tr style=\"text-align: right;\">\n",
       "      <th>lead_source</th>\n",
       "      <th>Clearbit</th>\n",
       "      <th>Conference</th>\n",
       "      <th>Content Marketing</th>\n",
       "      <th>Datanyze</th>\n",
       "      <th>Marketing Event</th>\n",
       "      <th>Other</th>\n",
       "      <th>Outbound</th>\n",
       "      <th>Personal Referral</th>\n",
       "      <th>Prospecting</th>\n",
       "      <th>Purchased List Upload</th>\n",
       "      <th>Sendbloom</th>\n",
       "      <th>Trade Show</th>\n",
       "      <th>Web</th>\n",
       "      <th>Zapier Zendesk Lead</th>\n",
       "      <th>ZenProspect</th>\n",
       "    </tr>\n",
       "    <tr>\n",
       "      <th>opportunity_month_year</th>\n",
       "      <th></th>\n",
       "      <th></th>\n",
       "      <th></th>\n",
       "      <th></th>\n",
       "      <th></th>\n",
       "      <th></th>\n",
       "      <th></th>\n",
       "      <th></th>\n",
       "      <th></th>\n",
       "      <th></th>\n",
       "      <th></th>\n",
       "      <th></th>\n",
       "      <th></th>\n",
       "      <th></th>\n",
       "      <th></th>\n",
       "    </tr>\n",
       "  </thead>\n",
       "  <tbody>\n",
       "    <tr>\n",
       "      <th>2016-09</th>\n",
       "      <td>16.0</td>\n",
       "      <td>NaN</td>\n",
       "      <td>1.0</td>\n",
       "      <td>NaN</td>\n",
       "      <td>2.0</td>\n",
       "      <td>NaN</td>\n",
       "      <td>2.0</td>\n",
       "      <td>2.0</td>\n",
       "      <td>NaN</td>\n",
       "      <td>NaN</td>\n",
       "      <td>NaN</td>\n",
       "      <td>1.0</td>\n",
       "      <td>90.0</td>\n",
       "      <td>NaN</td>\n",
       "      <td>1.0</td>\n",
       "    </tr>\n",
       "    <tr>\n",
       "      <th>2016-10</th>\n",
       "      <td>5.0</td>\n",
       "      <td>1.0</td>\n",
       "      <td>NaN</td>\n",
       "      <td>NaN</td>\n",
       "      <td>3.0</td>\n",
       "      <td>NaN</td>\n",
       "      <td>3.0</td>\n",
       "      <td>NaN</td>\n",
       "      <td>NaN</td>\n",
       "      <td>NaN</td>\n",
       "      <td>NaN</td>\n",
       "      <td>NaN</td>\n",
       "      <td>57.0</td>\n",
       "      <td>NaN</td>\n",
       "      <td>1.0</td>\n",
       "    </tr>\n",
       "    <tr>\n",
       "      <th>2016-11</th>\n",
       "      <td>7.0</td>\n",
       "      <td>NaN</td>\n",
       "      <td>NaN</td>\n",
       "      <td>NaN</td>\n",
       "      <td>NaN</td>\n",
       "      <td>NaN</td>\n",
       "      <td>4.0</td>\n",
       "      <td>NaN</td>\n",
       "      <td>NaN</td>\n",
       "      <td>1.0</td>\n",
       "      <td>NaN</td>\n",
       "      <td>NaN</td>\n",
       "      <td>67.0</td>\n",
       "      <td>NaN</td>\n",
       "      <td>3.0</td>\n",
       "    </tr>\n",
       "    <tr>\n",
       "      <th>2016-12</th>\n",
       "      <td>3.0</td>\n",
       "      <td>NaN</td>\n",
       "      <td>2.0</td>\n",
       "      <td>NaN</td>\n",
       "      <td>1.0</td>\n",
       "      <td>1.0</td>\n",
       "      <td>NaN</td>\n",
       "      <td>NaN</td>\n",
       "      <td>NaN</td>\n",
       "      <td>NaN</td>\n",
       "      <td>NaN</td>\n",
       "      <td>NaN</td>\n",
       "      <td>75.0</td>\n",
       "      <td>NaN</td>\n",
       "      <td>2.0</td>\n",
       "    </tr>\n",
       "    <tr>\n",
       "      <th>2017-04</th>\n",
       "      <td>NaN</td>\n",
       "      <td>NaN</td>\n",
       "      <td>NaN</td>\n",
       "      <td>NaN</td>\n",
       "      <td>NaN</td>\n",
       "      <td>NaN</td>\n",
       "      <td>NaN</td>\n",
       "      <td>NaN</td>\n",
       "      <td>NaN</td>\n",
       "      <td>NaN</td>\n",
       "      <td>NaN</td>\n",
       "      <td>NaN</td>\n",
       "      <td>1.0</td>\n",
       "      <td>NaN</td>\n",
       "      <td>NaN</td>\n",
       "    </tr>\n",
       "  </tbody>\n",
       "</table>\n",
       "</div>"
      ],
      "text/plain": [
       "lead_source             Clearbit  Conference  Content Marketing  Datanyze  \\\n",
       "opportunity_month_year                                                      \n",
       "2016-09                     16.0         NaN                1.0       NaN   \n",
       "2016-10                      5.0         1.0                NaN       NaN   \n",
       "2016-11                      7.0         NaN                NaN       NaN   \n",
       "2016-12                      3.0         NaN                2.0       NaN   \n",
       "2017-04                      NaN         NaN                NaN       NaN   \n",
       "\n",
       "lead_source             Marketing Event  Other  Outbound  Personal Referral  \\\n",
       "opportunity_month_year                                                        \n",
       "2016-09                             2.0    NaN       2.0                2.0   \n",
       "2016-10                             3.0    NaN       3.0                NaN   \n",
       "2016-11                             NaN    NaN       4.0                NaN   \n",
       "2016-12                             1.0    1.0       NaN                NaN   \n",
       "2017-04                             NaN    NaN       NaN                NaN   \n",
       "\n",
       "lead_source             Prospecting  Purchased List Upload  Sendbloom  \\\n",
       "opportunity_month_year                                                  \n",
       "2016-09                         NaN                    NaN        NaN   \n",
       "2016-10                         NaN                    NaN        NaN   \n",
       "2016-11                         NaN                    1.0        NaN   \n",
       "2016-12                         NaN                    NaN        NaN   \n",
       "2017-04                         NaN                    NaN        NaN   \n",
       "\n",
       "lead_source             Trade Show   Web  Zapier Zendesk Lead  ZenProspect  \n",
       "opportunity_month_year                                                      \n",
       "2016-09                        1.0  90.0                  NaN          1.0  \n",
       "2016-10                        NaN  57.0                  NaN          1.0  \n",
       "2016-11                        NaN  67.0                  NaN          3.0  \n",
       "2016-12                        NaN  75.0                  NaN          2.0  \n",
       "2017-04                        NaN   1.0                  NaN          NaN  "
      ]
     },
     "execution_count": 23,
     "metadata": {},
     "output_type": "execute_result"
    }
   ],
   "source": [
    "leadPerMonth.tail()"
   ]
  },
  {
   "cell_type": "code",
   "execution_count": 24,
   "metadata": {
    "collapsed": false
   },
   "outputs": [
    {
     "data": {
      "image/png": "[encoded data removed]",
      "text/plain": [
       "<matplotlib.figure.Figure at 0x11099240>"
      ]
     },
     "metadata": {},
     "output_type": "display_data"
    }
   ],
   "source": [
    "leadPerMonth.mean().plot.bar(figsize={12,6})\n",
    "plt.title('Average Leads per month');"
   ]
  },
  {
   "cell_type": "markdown",
   "metadata": {},
   "source": [
    "## Conversion Rate"
   ]
  },
  {
   "cell_type": "markdown",
   "metadata": {},
   "source": [
    "### Lead to Opportuntity"
   ]
  },
  {
   "cell_type": "code",
   "execution_count": 25,
   "metadata": {
    "collapsed": false
   },
   "outputs": [],
   "source": [
    "def oppConversion(x):\n",
    "    p = ''\n",
    "    if type(x.lead_converted_date) == pd.tslib.Timestamp: p = 'convertedLead'\n",
    "    return p"
   ]
  },
  {
   "cell_type": "code",
   "execution_count": 26,
   "metadata": {
    "collapsed": false
   },
   "outputs": [],
   "source": [
    "segmentData['opportunity_conversion'] = segmentData.apply(oppConversion, axis=1)"
   ]
  },
  {
   "cell_type": "code",
   "execution_count": 27,
   "metadata": {
    "collapsed": false
   },
   "outputs": [
    {
     "data": {
      "text/plain": [
       "                 7119\n",
       "convertedLead     870\n",
       "Name: opportunity_conversion, dtype: int64"
      ]
     },
     "execution_count": 27,
     "metadata": {},
     "output_type": "execute_result"
    }
   ],
   "source": [
    "segmentData.opportunity_conversion.value_counts()"
   ]
  },
  {
   "cell_type": "code",
   "execution_count": 28,
   "metadata": {
    "collapsed": false
   },
   "outputs": [],
   "source": [
    "leadConvDataGrouped = segmentData.groupby(['lead_source', 'opportunity_conversion']).opportunity_conversion.count()\n",
    "leadConvpct = leadConvDataGrouped.groupby(level=[0]).apply(lambda x: 100* x / float(x.sum())); "
   ]
  },
  {
   "cell_type": "code",
   "execution_count": 29,
   "metadata": {
    "collapsed": false
   },
   "outputs": [],
   "source": [
    "leadConvpct = leadConvpct.filter(like='convertedLead').rename('leadConversionPercent').to_frame().reset_index()"
   ]
  },
  {
   "cell_type": "code",
   "execution_count": 30,
   "metadata": {
    "collapsed": false
   },
   "outputs": [
    {
     "data": {
      "text/html": [
       "<div>\n",
       "<table border=\"1\" class=\"dataframe\">\n",
       "  <thead>\n",
       "    <tr style=\"text-align: right;\">\n",
       "      <th></th>\n",
       "      <th>lead_source</th>\n",
       "      <th>opportunity_conversion</th>\n",
       "      <th>leadConversionPercent</th>\n",
       "    </tr>\n",
       "  </thead>\n",
       "  <tbody>\n",
       "    <tr>\n",
       "      <th>10</th>\n",
       "      <td>Sendbloom</td>\n",
       "      <td>convertedLead</td>\n",
       "      <td>100.000000</td>\n",
       "    </tr>\n",
       "    <tr>\n",
       "      <th>11</th>\n",
       "      <td>Trade Show</td>\n",
       "      <td>convertedLead</td>\n",
       "      <td>85.714286</td>\n",
       "    </tr>\n",
       "    <tr>\n",
       "      <th>12</th>\n",
       "      <td>Web</td>\n",
       "      <td>convertedLead</td>\n",
       "      <td>16.559246</td>\n",
       "    </tr>\n",
       "    <tr>\n",
       "      <th>13</th>\n",
       "      <td>Zapier Zendesk Lead</td>\n",
       "      <td>convertedLead</td>\n",
       "      <td>100.000000</td>\n",
       "    </tr>\n",
       "    <tr>\n",
       "      <th>14</th>\n",
       "      <td>ZenProspect</td>\n",
       "      <td>convertedLead</td>\n",
       "      <td>100.000000</td>\n",
       "    </tr>\n",
       "  </tbody>\n",
       "</table>\n",
       "</div>"
      ],
      "text/plain": [
       "            lead_source opportunity_conversion  leadConversionPercent\n",
       "10            Sendbloom          convertedLead             100.000000\n",
       "11           Trade Show          convertedLead              85.714286\n",
       "12                  Web          convertedLead              16.559246\n",
       "13  Zapier Zendesk Lead          convertedLead             100.000000\n",
       "14          ZenProspect          convertedLead             100.000000"
      ]
     },
     "execution_count": 30,
     "metadata": {},
     "output_type": "execute_result"
    }
   ],
   "source": [
    "leadConvpct.tail()"
   ]
  },
  {
   "cell_type": "code",
   "execution_count": 31,
   "metadata": {
    "collapsed": false
   },
   "outputs": [
    {
     "data": {
      "image/png": "[encoded data removed]",
      "text/plain": [
       "<matplotlib.figure.Figure at 0x11816da0>"
      ]
     },
     "metadata": {},
     "output_type": "display_data"
    }
   ],
   "source": [
    "plt.figure(figsize=(12,6))\n",
    "sns.barplot(x='lead_source', y= 'leadConversionPercent', data=leadConvpct)\n",
    "plt.xticks(rotation=90)\n",
    "plt.title('Lead to Opportunity Percentage');"
   ]
  },
  {
   "cell_type": "markdown",
   "metadata": {},
   "source": [
    "### Qualification to Discovery"
   ]
  },
  {
   "cell_type": "code",
   "execution_count": 32,
   "metadata": {
    "collapsed": false
   },
   "outputs": [],
   "source": [
    "qualification = segmentData[segmentData['opportunity_conversion'] == 'convertedLead']"
   ]
  },
  {
   "cell_type": "code",
   "execution_count": 33,
   "metadata": {
    "collapsed": false
   },
   "outputs": [],
   "source": [
    "def qualConversion(x):\n",
    "    p = ''\n",
    "    if type(x.opportunity_qualified_date) == pd.tslib.Timestamp: p = 'convertedQual'\n",
    "    return p"
   ]
  },
  {
   "cell_type": "code",
   "execution_count": 34,
   "metadata": {
    "collapsed": false
   },
   "outputs": [],
   "source": [
    "qualification['opportunity_qualified_date'] = pd.to_datetime(qualification.opportunity_qualified_date)"
   ]
  },
  {
   "cell_type": "code",
   "execution_count": 35,
   "metadata": {
    "collapsed": false
   },
   "outputs": [],
   "source": [
    "qualification['qual_conversion'] = qualification.apply(qualConversion, axis=1)"
   ]
  },
  {
   "cell_type": "code",
   "execution_count": 36,
   "metadata": {
    "collapsed": false
   },
   "outputs": [
    {
     "data": {
      "text/plain": [
       "                 619\n",
       "convertedQual    251\n",
       "Name: qual_conversion, dtype: int64"
      ]
     },
     "execution_count": 36,
     "metadata": {},
     "output_type": "execute_result"
    }
   ],
   "source": [
    "qualification.qual_conversion.value_counts()"
   ]
  },
  {
   "cell_type": "code",
   "execution_count": 37,
   "metadata": {
    "collapsed": false
   },
   "outputs": [],
   "source": [
    "qualConvDataGrouped = qualification.groupby(['lead_source', 'qual_conversion']).qual_conversion.count()\n",
    "qualConvpct = qualConvDataGrouped.groupby(level=[0]).apply(lambda x: 100* x / float(x.sum())); "
   ]
  },
  {
   "cell_type": "code",
   "execution_count": 38,
   "metadata": {
    "collapsed": false
   },
   "outputs": [],
   "source": [
    "qualConvpct = qualConvpct.filter(like='convertedQual').rename('qualConversionPercent').to_frame().reset_index()"
   ]
  },
  {
   "cell_type": "code",
   "execution_count": 39,
   "metadata": {
    "collapsed": false
   },
   "outputs": [
    {
     "data": {
      "text/html": [
       "<div>\n",
       "<table border=\"1\" class=\"dataframe\">\n",
       "  <thead>\n",
       "    <tr style=\"text-align: right;\">\n",
       "      <th></th>\n",
       "      <th>lead_source</th>\n",
       "      <th>qual_conversion</th>\n",
       "      <th>qualConversionPercent</th>\n",
       "    </tr>\n",
       "  </thead>\n",
       "  <tbody>\n",
       "    <tr>\n",
       "      <th>0</th>\n",
       "      <td>Clearbit</td>\n",
       "      <td>convertedQual</td>\n",
       "      <td>26.415094</td>\n",
       "    </tr>\n",
       "    <tr>\n",
       "      <th>1</th>\n",
       "      <td>Content Marketing</td>\n",
       "      <td>convertedQual</td>\n",
       "      <td>33.333333</td>\n",
       "    </tr>\n",
       "    <tr>\n",
       "      <th>2</th>\n",
       "      <td>Datanyze</td>\n",
       "      <td>convertedQual</td>\n",
       "      <td>66.666667</td>\n",
       "    </tr>\n",
       "    <tr>\n",
       "      <th>3</th>\n",
       "      <td>Marketing Event</td>\n",
       "      <td>convertedQual</td>\n",
       "      <td>44.444444</td>\n",
       "    </tr>\n",
       "    <tr>\n",
       "      <th>4</th>\n",
       "      <td>Other</td>\n",
       "      <td>convertedQual</td>\n",
       "      <td>66.666667</td>\n",
       "    </tr>\n",
       "  </tbody>\n",
       "</table>\n",
       "</div>"
      ],
      "text/plain": [
       "         lead_source qual_conversion  qualConversionPercent\n",
       "0           Clearbit   convertedQual              26.415094\n",
       "1  Content Marketing   convertedQual              33.333333\n",
       "2           Datanyze   convertedQual              66.666667\n",
       "3    Marketing Event   convertedQual              44.444444\n",
       "4              Other   convertedQual              66.666667"
      ]
     },
     "execution_count": 39,
     "metadata": {},
     "output_type": "execute_result"
    }
   ],
   "source": [
    "qualConvpct.head()"
   ]
  },
  {
   "cell_type": "code",
   "execution_count": 40,
   "metadata": {
    "collapsed": false
   },
   "outputs": [
    {
     "data": {
      "image/png": "[encoded data removed]",
      "text/plain": [
       "<matplotlib.figure.Figure at 0x119532b0>"
      ]
     },
     "metadata": {},
     "output_type": "display_data"
    }
   ],
   "source": [
    "plt.figure(figsize=(12,6))\n",
    "sns.barplot(x='lead_source', y= 'qualConversionPercent', data=qualConvpct)\n",
    "plt.xticks(rotation=90)\n",
    "plt.title('Qualification Stage to Discovery Percentage');"
   ]
  },
  {
   "cell_type": "markdown",
   "metadata": {},
   "source": [
    "### Discovery to Closed Won"
   ]
  },
  {
   "cell_type": "code",
   "execution_count": 42,
   "metadata": {
    "collapsed": false
   },
   "outputs": [],
   "source": [
    "discovery = qualification[qualification['qual_conversion'] == 'convertedQual']"
   ]
  },
  {
   "cell_type": "code",
   "execution_count": 43,
   "metadata": {
    "collapsed": false
   },
   "outputs": [],
   "source": [
    "discGrouped = discovery.groupby(['lead_source', 'opportunity_stage']).opportunity_stage.count()\n",
    "discConvpct = discGrouped.groupby(level=[0]).apply(lambda x: 100* x / float(x.sum())); "
   ]
  },
  {
   "cell_type": "code",
   "execution_count": 44,
   "metadata": {
    "collapsed": false
   },
   "outputs": [
    {
     "data": {
      "text/plain": [
       "lead_source        opportunity_stage\n",
       "Clearbit           Closed Lost          28\n",
       "Content Marketing  Closed Lost           1\n",
       "Datanyze           Closed Lost           1\n",
       "                   Nurture               1\n",
       "Marketing Event    Closed Lost           1\n",
       "                   Closed Won            3\n",
       "Other              Nurture               2\n",
       "Outbound           Closed Lost           7\n",
       "                   Closed Won            1\n",
       "                   Nurture               1\n",
       "Name: opportunity_stage, dtype: int64"
      ]
     },
     "execution_count": 44,
     "metadata": {},
     "output_type": "execute_result"
    }
   ],
   "source": [
    "discGrouped.head(10)"
   ]
  },
  {
   "cell_type": "code",
   "execution_count": 45,
   "metadata": {
    "collapsed": false
   },
   "outputs": [],
   "source": [
    "discConvpct = discConvpct.filter(like='Closed Won').rename('discConversionPercent').to_frame().reset_index()"
   ]
  },
  {
   "cell_type": "code",
   "execution_count": 46,
   "metadata": {
    "collapsed": false
   },
   "outputs": [
    {
     "data": {
      "text/html": [
       "<div>\n",
       "<table border=\"1\" class=\"dataframe\">\n",
       "  <thead>\n",
       "    <tr style=\"text-align: right;\">\n",
       "      <th></th>\n",
       "      <th>lead_source</th>\n",
       "      <th>opportunity_stage</th>\n",
       "      <th>discConversionPercent</th>\n",
       "    </tr>\n",
       "  </thead>\n",
       "  <tbody>\n",
       "    <tr>\n",
       "      <th>0</th>\n",
       "      <td>Marketing Event</td>\n",
       "      <td>Closed Won</td>\n",
       "      <td>75.000000</td>\n",
       "    </tr>\n",
       "    <tr>\n",
       "      <th>1</th>\n",
       "      <td>Outbound</td>\n",
       "      <td>Closed Won</td>\n",
       "      <td>11.111111</td>\n",
       "    </tr>\n",
       "    <tr>\n",
       "      <th>2</th>\n",
       "      <td>Trade Show</td>\n",
       "      <td>Closed Won</td>\n",
       "      <td>33.333333</td>\n",
       "    </tr>\n",
       "    <tr>\n",
       "      <th>3</th>\n",
       "      <td>Web</td>\n",
       "      <td>Closed Won</td>\n",
       "      <td>32.631579</td>\n",
       "    </tr>\n",
       "    <tr>\n",
       "      <th>4</th>\n",
       "      <td>ZenProspect</td>\n",
       "      <td>Closed Won</td>\n",
       "      <td>12.500000</td>\n",
       "    </tr>\n",
       "  </tbody>\n",
       "</table>\n",
       "</div>"
      ],
      "text/plain": [
       "       lead_source opportunity_stage  discConversionPercent\n",
       "0  Marketing Event        Closed Won              75.000000\n",
       "1         Outbound        Closed Won              11.111111\n",
       "2       Trade Show        Closed Won              33.333333\n",
       "3              Web        Closed Won              32.631579\n",
       "4      ZenProspect        Closed Won              12.500000"
      ]
     },
     "execution_count": 46,
     "metadata": {},
     "output_type": "execute_result"
    }
   ],
   "source": [
    "discConvpct.head()"
   ]
  },
  {
   "cell_type": "code",
   "execution_count": 47,
   "metadata": {
    "collapsed": false
   },
   "outputs": [
    {
     "data": {
      "image/png": "[encoded data removed]",
      "text/plain": [
       "<matplotlib.figure.Figure at 0x11a41240>"
      ]
     },
     "metadata": {},
     "output_type": "display_data"
    }
   ],
   "source": [
    "plt.figure(figsize=(12,6))\n",
    "sns.barplot(x='lead_source', y= 'discConversionPercent', data=discConvpct)\n",
    "plt.xticks(rotation=90)\n",
    "plt.title('Discovery to Closed Won Percentage');"
   ]
  },
  {
   "cell_type": "markdown",
   "metadata": {},
   "source": [
    "### MQL effect on opportunity stage"
   ]
  },
  {
   "cell_type": "code",
   "execution_count": 49,
   "metadata": {
    "collapsed": false
   },
   "outputs": [],
   "source": [
    "# sns.(x='opportunity_month_year', hue='opportunity_stage', data=segmentData)\n",
    "oppstage = segmentData[['lead_mql_status', 'opportunity_month_year', 'opportunity_stage']].pivot_table(\n",
    "                index=['lead_mql_status', 'opportunity_month_year'], \n",
    "                columns='opportunity_stage', aggfunc=len, fill_value=0\n",
    "            )"
   ]
  },
  {
   "cell_type": "code",
   "execution_count": 50,
   "metadata": {
    "collapsed": false
   },
   "outputs": [
    {
     "data": {
      "image/png": "[encoded data removed]",
      "text/plain": [
       "<matplotlib.figure.Figure at 0x11b04d68>"
      ]
     },
     "metadata": {},
     "output_type": "display_data"
    }
   ],
   "source": [
    "oppstage.loc[0].plot(kind='bar', stacked=True, figsize=(12,6));"
   ]
  },
  {
   "cell_type": "code",
   "execution_count": 51,
   "metadata": {
    "collapsed": false
   },
   "outputs": [
    {
     "data": {
      "image/png": "[encoded data removed]",
      "text/plain": [
       "<matplotlib.figure.Figure at 0x11633940>"
      ]
     },
     "metadata": {},
     "output_type": "display_data"
    }
   ],
   "source": [
    "oppstage.loc[1].plot(kind='bar', stacked=True, figsize=(12,6));"
   ]
  },
  {
   "cell_type": "code",
   "execution_count": 52,
   "metadata": {
    "collapsed": false
   },
   "outputs": [
    {
     "data": {
      "text/plain": [
       "lead_mql_status  opportunity_month_year  opportunity_stage\n",
       "0.0              2014-07                 Closed Lost          1.0\n",
       "                 2015-04                 Nurture              1.0\n",
       "                 2015-10                 Closed Lost          1.0\n",
       "                 2015-12                 Nurture              1.0\n",
       "                 2016-01                 Closed Lost          0.4\n",
       "Name: opportunity_stage, dtype: float64"
      ]
     },
     "execution_count": 52,
     "metadata": {},
     "output_type": "execute_result"
    }
   ],
   "source": [
    "# mql 1 vs 0 closed won as a percentage of total using apply\n",
    "segDataGrouped = segmentData.groupby(['lead_mql_status','opportunity_month_year', 'opportunity_stage']).opportunity_stage.count()\n",
    "oppstagepct = segDataGrouped.groupby(level=[0,1]).apply(lambda x: x / float(x.sum())); oppstagepct.head()"
   ]
  },
  {
   "cell_type": "code",
   "execution_count": 53,
   "metadata": {
    "collapsed": false
   },
   "outputs": [
    {
     "data": {
      "text/plain": [
       "<matplotlib.axes._subplots.AxesSubplot at 0x10537400>"
      ]
     },
     "execution_count": 53,
     "metadata": {},
     "output_type": "execute_result"
    },
    {
     "data": {
      "image/png": "[encoded data removed]",
      "text/plain": [
       "<matplotlib.figure.Figure at 0x103f2128>"
      ]
     },
     "metadata": {},
     "output_type": "display_data"
    }
   ],
   "source": [
    "oppstagepct.loc[0].plot.box(by='opportunity_stage')"
   ]
  },
  {
   "cell_type": "code",
   "execution_count": 55,
   "metadata": {
    "collapsed": false
   },
   "outputs": [],
   "source": [
    "oppstage = segmentData[['lead_mql_status', 'opportunity_month_year', 'opportunity_stage']].pivot_table(\n",
    "        index=['lead_mql_status', 'opportunity_month_year', 'opportunity_stage'], aggfunc=len, fill_value=0).reset_index()"
   ]
  },
  {
   "cell_type": "code",
   "execution_count": 56,
   "metadata": {
    "collapsed": false
   },
   "outputs": [],
   "source": [
    "oppstage.columns = ['lead_mql_status', 'opportunity_month_year', 'opportunity_stage', 'counts']"
   ]
  },
  {
   "cell_type": "code",
   "execution_count": 57,
   "metadata": {
    "collapsed": false
   },
   "outputs": [
    {
     "data": {
      "text/plain": [
       "Closed Lost                    545\n",
       "Nurture                         77\n",
       "Closed Won                      68\n",
       "Closed Lost - Qualification      2\n",
       "1 - Qualification                1\n",
       "Name: opportunity_stage, dtype: int64"
      ]
     },
     "execution_count": 57,
     "metadata": {},
     "output_type": "execute_result"
    }
   ],
   "source": [
    "segmentData.opportunity_stage.value_counts()"
   ]
  }
 ],
 "metadata": {
  "kernelspec": {
   "display_name": "Python 2",
   "language": "python",
   "name": "python2"
  },
  "language_info": {
   "codemirror_mode": {
    "name": "ipython",
    "version": 2
   },
   "file_extension": ".py",
   "mimetype": "text/x-python",
   "name": "python",
   "nbconvert_exporter": "python",
   "pygments_lexer": "ipython2",
   "version": "2.7.12"
  }
 },
 "nbformat": 4,
 "nbformat_minor": 0
}
